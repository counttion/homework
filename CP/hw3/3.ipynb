{
 "cells": [
  {
   "cell_type": "markdown",
   "metadata": {},
   "source": [
    "定义原函数fx"
   ]
  },
  {
   "cell_type": "code",
   "execution_count": 4,
   "metadata": {},
   "outputs": [],
   "source": [
    "import numpy as np\n",
    "def f(x):\n",
    "    return np.exp(-x)/x"
   ]
  },
  {
   "cell_type": "markdown",
   "metadata": {},
   "source": [
    "梯形法则计算函数"
   ]
  },
  {
   "cell_type": "code",
   "execution_count": 38,
   "metadata": {},
   "outputs": [],
   "source": [
    "def calfx1(n):\n",
    "    h = 99/(n-1)\n",
    "    xlist = np.arange(1,100.001,h)\n",
    "    sum = h*(f(xlist[0]+f(xlist[n-1])))/2\n",
    "    for i in range(1,n-1):\n",
    "        sum += h*f(xlist[i])\n",
    "    return sum\n"
   ]
  },
  {
   "cell_type": "markdown",
   "metadata": {},
   "source": [
    "辛普森法计算函数"
   ]
  },
  {
   "cell_type": "code",
   "execution_count": 47,
   "metadata": {},
   "outputs": [],
   "source": [
    "def calfx2(n):\n",
    "    h = 99/(n-1)\n",
    "    xlist = np.arange(1,100.001,h)\n",
    "    sum = f(xlist[0])+f(xlist[n-1])+4*f((xlist[0]+xlist[1])/2)\n",
    "    for i in range(1,n-1):\n",
    "        sum +=2*f(xlist[i]) + 4*f((xlist[i]+xlist[i+1])/2)\n",
    "    sum = sum*h/6\n",
    "    return sum"
   ]
  },
  {
   "cell_type": "markdown",
   "metadata": {},
   "source": [
    "高斯勒让德计算函数,\n",
    "使用roots_legendre包获取节点和权重因子,\n",
    "在计算过程中注意将函数转换到-1，1上"
   ]
  },
  {
   "cell_type": "code",
   "execution_count": 5,
   "metadata": {},
   "outputs": [],
   "source": [
    "from scipy.special import roots_legendre\n",
    "def calfx3(n):\n",
    "    b=100\n",
    "    a=1\n",
    "    x,w = roots_legendre(n)\n",
    "    sum = 0\n",
    "    for i in range(n):\n",
    "        sum += w[i] * f(0.5*(b-a)*x[i]+0.5*(b+a))\n",
    "    sum *= 0.5*(b-a)\n",
    "    return sum"
   ]
  },
  {
   "cell_type": "markdown",
   "metadata": {},
   "source": [
    "计算结果"
   ]
  },
  {
   "cell_type": "code",
   "execution_count": 48,
   "metadata": {},
   "outputs": [],
   "source": [
    "res110 = calfx1(10)\n",
    "res1100 = calfx1(100)\n",
    "res11000 = calfx1(1000)\n",
    "res210 = calfx2(10)\n",
    "res2100 = calfx2(100)\n",
    "res21000 = calfx2(1000)"
   ]
  },
  {
   "cell_type": "code",
   "execution_count": 8,
   "metadata": {},
   "outputs": [],
   "source": [
    "res310 = calfx3(10)\n",
    "res3100 = calfx3(100)"
   ]
  },
  {
   "cell_type": "markdown",
   "metadata": {},
   "source": [
    "输出结果"
   ]
  },
  {
   "cell_type": "code",
   "execution_count": 49,
   "metadata": {},
   "outputs": [
    {
     "name": "stdout",
     "output_type": "stream",
     "text": [
      "2.023342558686669\n",
      "0.2747354248013607\n",
      "0.21998528440244491\n"
     ]
    }
   ],
   "source": [
    "print(res110)\n",
    "print(res1100)\n",
    "print(res11000)"
   ]
  },
  {
   "cell_type": "code",
   "execution_count": 50,
   "metadata": {},
   "outputs": [
    {
     "name": "stdout",
     "output_type": "stream",
     "text": [
      "0.6761437178920752\n",
      "0.22075700448180582\n",
      "0.21938413034561477\n"
     ]
    }
   ],
   "source": [
    "print(res210)\n",
    "print(res2100)\n",
    "print(res21000)"
   ]
  },
  {
   "cell_type": "code",
   "execution_count": 9,
   "metadata": {},
   "outputs": [
    {
     "name": "stdout",
     "output_type": "stream",
     "text": [
      "0.14604476471703118\n",
      "0.21938393439556392\n"
     ]
    }
   ],
   "source": [
    "print(res310)\n",
    "print(res3100)"
   ]
  },
  {
   "cell_type": "markdown",
   "metadata": {},
   "source": [
    "使用包计算标准答案"
   ]
  },
  {
   "cell_type": "code",
   "execution_count": 33,
   "metadata": {},
   "outputs": [
    {
     "name": "stdout",
     "output_type": "stream",
     "text": [
      "0.21938393439552029\n"
     ]
    }
   ],
   "source": [
    "from scipy import integrate\n",
    "\n",
    "fArea,err = integrate.quad(f,1,100)\n",
    "print(fArea)"
   ]
  }
 ],
 "metadata": {
  "kernelspec": {
   "display_name": "Python 3",
   "language": "python",
   "name": "python3"
  },
  "language_info": {
   "codemirror_mode": {
    "name": "ipython",
    "version": 3
   },
   "file_extension": ".py",
   "mimetype": "text/x-python",
   "name": "python",
   "nbconvert_exporter": "python",
   "pygments_lexer": "ipython3",
   "version": "3.8.8"
  }
 },
 "nbformat": 4,
 "nbformat_minor": 2
}
