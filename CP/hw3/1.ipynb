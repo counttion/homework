{
 "cells": [
  {
   "cell_type": "code",
   "execution_count": null,
   "metadata": {},
   "outputs": [],
   "source": []
  },
  {
   "cell_type": "markdown",
   "metadata": {},
   "source": [
    "构建节点"
   ]
  },
  {
   "cell_type": "code",
   "execution_count": 1,
   "metadata": {},
   "outputs": [],
   "source": [
    "import numpy as np\n",
    "k1 = np.arange(0,4,1)\n",
    "k2 = np.arange(0,6,1)\n",
    "\n",
    "x1 = np.cos(np.pi * (k1+1/2)/4)\n",
    "x2 = np.cos(np.pi * (k2+1/2)/6)"
   ]
  },
  {
   "cell_type": "markdown",
   "metadata": {},
   "source": [
    "定义函数"
   ]
  },
  {
   "cell_type": "code",
   "execution_count": 2,
   "metadata": {},
   "outputs": [],
   "source": [
    "def f(x):\n",
    "    return x**6+3*(x**5)+4*(x**4)+(x**3)/3+2*(x**2)+x-10\n",
    "#注意要将函数变换到-1，1上\n",
    "y1 = f(2*x1+1)\n",
    "y2 = f(2*x2+1)"
   ]
  },
  {
   "cell_type": "markdown",
   "metadata": {},
   "source": [
    "创建参数列表c，并根据公式（见ppt）计算每个c的值\n",
    "注意，c0的值在计算时已经考虑过delta，也就是说S(x)的表达式中不再需要-c0/2"
   ]
  },
  {
   "cell_type": "code",
   "execution_count": 3,
   "metadata": {},
   "outputs": [
    {
     "name": "stdout",
     "output_type": "stream",
     "text": [
      "[369.3333333333333, 663.9999999999999, 443.99999999999994, 204.66666666666669]\n"
     ]
    }
   ],
   "source": [
    "c1=[0] * 4\n",
    "c1[0] = np.sum(y1)/4\n",
    "for m in range(1,4):\n",
    "    res = np.cos(m*np.pi*(k1+1/2)/4)\n",
    "    c1[m] = np.sum(res * y1)*2/4\n",
    "print(c1)"
   ]
  },
  {
   "cell_type": "code",
   "execution_count": 4,
   "metadata": {},
   "outputs": [
    {
     "name": "stdout",
     "output_type": "stream",
     "text": [
      "[369.33333333333326, 663.9999999999999, 445.99999999999983, 222.66666666666663, 80.00000000000006, 17.999999999999904]\n"
     ]
    }
   ],
   "source": [
    "c2=[0] * 6\n",
    "c2[0] = np.sum(y2)/6\n",
    "for m in range(1,6):\n",
    "    res = np.cos(m*np.pi*(k2+1/2)/6)\n",
    "    c2[m] = np.sum(res * y2)*2/6\n",
    "print(c2)"
   ]
  },
  {
   "cell_type": "markdown",
   "metadata": {},
   "source": [
    "定义chebyshev函数，并用其计算节点的y值"
   ]
  },
  {
   "cell_type": "code",
   "execution_count": 5,
   "metadata": {},
   "outputs": [],
   "source": [
    "def chebyshev1(x):\n",
    "    x = x/2 -0.5\n",
    "    res = 0\n",
    "    for i in range(4):\n",
    "        res += c1[i] * np.cos(i*np.arccos(x))\n",
    "    return res"
   ]
  },
  {
   "cell_type": "code",
   "execution_count": 6,
   "metadata": {},
   "outputs": [],
   "source": [
    "def chebyshev2(x):\n",
    "    x = x/2 -0.5\n",
    "    res = 0\n",
    "    for i in range(6):\n",
    "        res += c2[i] * np.cos(i*np.arccos(x))\n",
    "    return res"
   ]
  },
  {
   "cell_type": "markdown",
   "metadata": {},
   "source": [
    "构建很多个点，然后分别用f(x)和chebyshev1(x),chebyshev2(x)计算y值"
   ]
  },
  {
   "cell_type": "code",
   "execution_count": 7,
   "metadata": {},
   "outputs": [
    {
     "name": "stderr",
     "output_type": "stream",
     "text": [
      "C:\\Users\\10908\\AppData\\Local\\Temp\\ipykernel_14012\\2955248880.py:5: RuntimeWarning: invalid value encountered in arccos\n",
      "  res += c1[i] * np.cos(i*np.arccos(x))\n"
     ]
    }
   ],
   "source": [
    "xshowlist = np.arange(-1,3.2,0.05)\n",
    "fshowlist = f(xshowlist)\n",
    "chshowlist1 = chebyshev1(xshowlist)\n",
    "chshowlist2 = chebyshev2(xshowlist)"
   ]
  },
  {
   "cell_type": "code",
   "execution_count": 8,
   "metadata": {},
   "outputs": [
    {
     "data": {
      "image/png": "[encoded data removed]",
      "text/plain": [
       "<Figure size 640x480 with 1 Axes>"
      ]
     },
     "metadata": {},
     "output_type": "display_data"
    }
   ],
   "source": [
    "import matplotlib.pyplot as plt\n",
    "\n",
    "plt.plot(xshowlist, fshowlist, label='f')\n",
    "plt.plot(xshowlist, chshowlist1, label='ch1')\n",
    "plt.plot(xshowlist, chshowlist2, label='ch2')\n",
    "\n",
    "plt.legend()\n",
    "\n",
    "plt.xlabel('x')\n",
    "plt.ylabel('y')\n",
    "\n",
    "plt.show()"
   ]
  },
  {
   "cell_type": "code",
   "execution_count": null,
   "metadata": {},
   "outputs": [],
   "source": []
  }
 ],
 "metadata": {
  "kernelspec": {
   "display_name": "Python 3",
   "language": "python",
   "name": "python3"
  },
  "language_info": {
   "codemirror_mode": {
    "name": "ipython",
    "version": 3
   },
   "file_extension": ".py",
   "mimetype": "text/x-python",
   "name": "python",
   "nbconvert_exporter": "python",
   "pygments_lexer": "ipython3",
   "version": "3.9.15"
  }
 },
 "nbformat": 4,
 "nbformat_minor": 2
}
