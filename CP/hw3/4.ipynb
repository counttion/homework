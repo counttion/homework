{
 "cells": [
  {
   "cell_type": "code",
   "execution_count": 1,
   "metadata": {},
   "outputs": [],
   "source": [
    "import numpy as np"
   ]
  },
  {
   "cell_type": "markdown",
   "metadata": {},
   "source": [
    "定义两个函数"
   ]
  },
  {
   "cell_type": "code",
   "execution_count": 2,
   "metadata": {},
   "outputs": [],
   "source": [
    "def f1(x):\n",
    "    return x-2*np.sin(x)\n",
    "def f1pie(x):\n",
    "    return 1-2*np.cos(x)"
   ]
  },
  {
   "cell_type": "code",
   "execution_count": 3,
   "metadata": {},
   "outputs": [],
   "source": [
    "def f2(x):\n",
    "    return x**2 - 4*x*np.sin(x) +(2*np.sin(x))**2\n",
    "def f2pie(x):\n",
    "    return 2*x - 4*(np.sin(x)+x*np.cos(x))+8*np.sin(x)*np.cos(x)"
   ]
  },
  {
   "cell_type": "markdown",
   "metadata": {},
   "source": [
    "用bisect求的根"
   ]
  },
  {
   "cell_type": "code",
   "execution_count": 4,
   "metadata": {},
   "outputs": [
    {
     "name": "stdout",
     "output_type": "stream",
     "text": [
      "1.8954942670334276\n"
     ]
    }
   ],
   "source": [
    "from scipy.optimize import bisect\n",
    "root1 = bisect(f1, 1.5, 2)\n",
    "print(root1)"
   ]
  },
  {
   "cell_type": "markdown",
   "metadata": {},
   "source": [
    "二分法"
   ]
  },
  {
   "cell_type": "code",
   "execution_count": 5,
   "metadata": {},
   "outputs": [],
   "source": [
    "def cal1(f):\n",
    "    k=0\n",
    "    left = 1.5\n",
    "    right =2\n",
    "    episilon = 10**-5\n",
    "    x=0\n",
    "    while((right - left) >episilon):\n",
    "        k+=1\n",
    "        x = (left+right)/2\n",
    "        if(f(x)*f(left)>0):\n",
    "            left = x\n",
    "        else:\n",
    "            right = x\n",
    "        print(k,left,right)\n",
    "    print(x)"
   ]
  },
  {
   "cell_type": "markdown",
   "metadata": {},
   "source": [
    "牛顿法"
   ]
  },
  {
   "cell_type": "code",
   "execution_count": 6,
   "metadata": {},
   "outputs": [],
   "source": [
    "def cal2(f,fpie):\n",
    "    x0 = 1.5\n",
    "    x1 = x0 - f(x0)/fpie(x0)\n",
    "    print(1,'\\t',x1)\n",
    "    k = 1\n",
    "    episilon = 10**-6\n",
    "    while(f(x1)>episilon or np.absolute(x1-x0)>episilon):\n",
    "        k+=1\n",
    "        x0 = x1\n",
    "        x1 = x0 - f(x0)/fpie(x0)\n",
    "        print(k,'\\t',x1)"
   ]
  },
  {
   "cell_type": "markdown",
   "metadata": {},
   "source": [
    "割线法"
   ]
  },
  {
   "cell_type": "code",
   "execution_count": 7,
   "metadata": {},
   "outputs": [],
   "source": [
    "def cal3(f):\n",
    "    x0 = 1.5\n",
    "    x1 = 2.0765582\n",
    "    x2 = x1 - f(x1)*(x1-x0)/(f(x1)-f(x0))\n",
    "    print(1,'\\t',x2)\n",
    "    k=1\n",
    "    episilon = 10**-6\n",
    "    while(f(x2)>episilon or np.absolute(x2-x1)>episilon):\n",
    "        k+=1\n",
    "        x0 = x1\n",
    "        x1 = x2\n",
    "        x2 = x1 - f(x1)*(x1-x0)/(f(x1)-f(x0))\n",
    "        print(k,'\\t',x2)"
   ]
  },
  {
   "cell_type": "markdown",
   "metadata": {},
   "source": [
    "分别求结果"
   ]
  },
  {
   "cell_type": "code",
   "execution_count": 8,
   "metadata": {},
   "outputs": [
    {
     "name": "stdout",
     "output_type": "stream",
     "text": [
      "1 1.75 2\n",
      "2 1.875 2\n",
      "3 1.875 1.9375\n",
      "4 1.875 1.90625\n",
      "5 1.890625 1.90625\n",
      "6 1.890625 1.8984375\n",
      "7 1.89453125 1.8984375\n",
      "8 1.89453125 1.896484375\n",
      "9 1.89453125 1.8955078125\n",
      "10 1.89501953125 1.8955078125\n",
      "11 1.895263671875 1.8955078125\n",
      "12 1.8953857421875 1.8955078125\n",
      "13 1.89544677734375 1.8955078125\n",
      "14 1.895477294921875 1.8955078125\n",
      "15 1.8954925537109375 1.8955078125\n",
      "16 1.8954925537109375 1.8955001831054688\n",
      "1.8955001831054688\n"
     ]
    }
   ],
   "source": [
    "cal1(f1)"
   ]
  },
  {
   "cell_type": "code",
   "execution_count": 16,
   "metadata": {},
   "outputs": [
    {
     "name": "stdout",
     "output_type": "stream",
     "text": [
      "1 \t 2.076558200630435\n",
      "2 \t 1.9105066156590806\n",
      "3 \t 1.895622002987846\n",
      "4 \t 1.8954942764727707\n",
      "5 \t 1.8954942670339812\n"
     ]
    }
   ],
   "source": [
    "cal2(f1,f1pie)"
   ]
  },
  {
   "cell_type": "code",
   "execution_count": 17,
   "metadata": {},
   "outputs": [
    {
     "name": "stdout",
     "output_type": "stream",
     "text": [
      "1 \t 1.7882791003152174\n",
      "2 \t 1.8457723359438054\n",
      "3 \t 1.8714005418318977\n",
      "4 \t 1.8836210857870135\n",
      "5 \t 1.8895991366086125\n",
      "6 \t 1.8925568378904405\n",
      "7 \t 1.8940280587800475\n",
      "8 \t 1.8947617860795662\n",
      "9 \t 1.895128181927505\n",
      "10 \t 1.895311263270625\n",
      "11 \t 1.8954027748437559\n",
      "12 \t 1.8954485233613476\n",
      "13 \t 1.895471395804558\n",
      "14 \t 1.895482831572534\n",
      "15 \t 1.8954885493418605\n",
      "16 \t 1.895491408210215\n",
      "17 \t 1.8954928376412095\n",
      "18 \t 1.895493552292121\n"
     ]
    }
   ],
   "source": [
    "cal2(f2,f2pie)"
   ]
  },
  {
   "cell_type": "code",
   "execution_count": 11,
   "metadata": {},
   "outputs": [
    {
     "name": "stdout",
     "output_type": "stream",
     "text": [
      "1 \t 1.8472170635174783\n",
      "2 \t 1.8908694114251112\n",
      "3 \t 1.8956283140491865\n",
      "4 \t 1.8954939072262598\n",
      "5 \t 1.8954942670060777\n"
     ]
    }
   ],
   "source": [
    "cal3(f1)"
   ]
  },
  {
   "cell_type": "code",
   "execution_count": 18,
   "metadata": {},
   "outputs": [
    {
     "name": "stdout",
     "output_type": "stream",
     "text": [
      "1 \t 2.5227676865858104\n",
      "2 \t 2.0492997270231283\n",
      "3 \t 2.0293589866091692\n",
      "4 \t 1.9719757310263355\n",
      "5 \t 1.9465419681500566\n",
      "6 \t 1.9271023905787463\n",
      "7 \t 1.9154315962717388\n",
      "8 \t 1.9078868611726614\n",
      "9 \t 1.9032026433753295\n",
      "10 \t 1.9002723811531708\n",
      "11 \t 1.8984539551645232\n",
      "12 \t 1.897325726679809\n",
      "13 \t 1.8966271108019368\n",
      "14 \t 1.896194746784561\n",
      "15 \t 1.8959273226584448\n",
      "16 \t 1.8957619609806693\n",
      "17 \t 1.8956597306388456\n",
      "18 \t 1.895596536623472\n",
      "19 \t 1.895557475977574\n",
      "20 \t 1.8955333334009419\n",
      "21 \t 1.8955184117910013\n",
      "22 \t 1.8955091894748253\n",
      "23 \t 1.895503489667072\n",
      "24 \t 1.8954999669555255\n",
      "25 \t 1.8954977898064183\n",
      "26 \t 1.8954964442231443\n",
      "27 \t 1.8954956126630178\n"
     ]
    }
   ],
   "source": [
    "cal3(f2)"
   ]
  },
  {
   "cell_type": "markdown",
   "metadata": {},
   "source": [
    "画图看一下函数曲线"
   ]
  },
  {
   "cell_type": "code",
   "execution_count": 19,
   "metadata": {},
   "outputs": [],
   "source": [
    "xlist = np.arange(1,2.0001,0.01)\n",
    "ylist1 = f1(xlist)\n",
    "ylist2 = f2(xlist)\n"
   ]
  },
  {
   "cell_type": "code",
   "execution_count": 20,
   "metadata": {},
   "outputs": [
    {
     "data": {
      "image/png": "[encoded data removed]",
      "text/plain": [
       "<Figure size 640x480 with 1 Axes>"
      ]
     },
     "metadata": {},
     "output_type": "display_data"
    }
   ],
   "source": [
    "import matplotlib.pyplot as plt\n",
    "plt.plot(xlist,ylist1)\n",
    "plt.show()"
   ]
  },
  {
   "cell_type": "code",
   "execution_count": 21,
   "metadata": {},
   "outputs": [
    {
     "data": {
      "image/png": "[encoded data removed]",
      "text/plain": [
       "<Figure size 640x480 with 1 Axes>"
      ]
     },
     "metadata": {},
     "output_type": "display_data"
    }
   ],
   "source": [
    "plt.plot(xlist,ylist2)\n",
    "plt.show()"
   ]
  },
  {
   "cell_type": "code",
   "execution_count": null,
   "metadata": {},
   "outputs": [],
   "source": []
  }
 ],
 "metadata": {
  "kernelspec": {
   "display_name": "base",
   "language": "python",
   "name": "python3"
  },
  "language_info": {
   "codemirror_mode": {
    "name": "ipython",
    "version": 3
   },
   "file_extension": ".py",
   "mimetype": "text/x-python",
   "name": "python",
   "nbconvert_exporter": "python",
   "pygments_lexer": "ipython3",
   "version": "3.9.15"
  }
 },
 "nbformat": 4,
 "nbformat_minor": 2
}
