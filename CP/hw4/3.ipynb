{
 "cells": [
  {
   "cell_type": "code",
   "execution_count": 1,
   "metadata": {},
   "outputs": [],
   "source": [
    "import numpy as np"
   ]
  },
  {
   "cell_type": "markdown",
   "metadata": {},
   "source": [
    "矩阵A"
   ]
  },
  {
   "cell_type": "code",
   "execution_count": 27,
   "metadata": {},
   "outputs": [],
   "source": [
    "A = np.zeros((10,10))\n",
    "for i in range(10):\n",
    "    for j in range(10):\n",
    "        if(i==j):\n",
    "            A[i][j] = 2\n",
    "        elif(i==j+1 or i==j-1):\n",
    "            A[i][j] = -1\n",
    "A[0][9] = -1\n",
    "A[9][0] = -1"
   ]
  },
  {
   "cell_type": "markdown",
   "metadata": {},
   "source": [
    "随便取一个q0，然后迭代100次"
   ]
  },
  {
   "cell_type": "code",
   "execution_count": 26,
   "metadata": {},
   "outputs": [
    {
     "name": "stdout",
     "output_type": "stream",
     "text": [
      "3.999999996240157\n",
      "[ 0.31618364 -0.31618934  0.31620972 -0.31623699  0.31626074 -0.31627189\n",
      "  0.31626619 -0.31624581  0.31621854 -0.31619479]\n"
     ]
    }
   ],
   "source": [
    "q = np.array([1, 5, 4, 2, 8, 7, 3, 0, 5, 4])\n",
    "q = q / np.linalg.norm(q)\n",
    "k=0\n",
    "while(k<100):\n",
    "    k+=1\n",
    "    z = np.dot(A,q)\n",
    "    q = z/np.linalg.norm(z)\n",
    "    v = np.dot(q,np.dot(A,q))\n",
    "print(v)\n",
    "print(q)"
   ]
  },
  {
   "cell_type": "markdown",
   "metadata": {},
   "source": [
    "np的标准答案"
   ]
  },
  {
   "cell_type": "code",
   "execution_count": 32,
   "metadata": {},
   "outputs": [
    {
     "name": "stdout",
     "output_type": "stream",
     "text": [
      "Eigenvalues:\n",
      "4.0\n",
      "Eigenvectors:\n",
      "[ 0.31622777 -0.31622777  0.31622777 -0.31622777  0.31622777 -0.31622777\n",
      "  0.31622777 -0.31622777  0.31622777 -0.31622777]\n"
     ]
    }
   ],
   "source": [
    "import numpy as np\n",
    "\n",
    "# 求解T的本征矢和本征值\n",
    "eigenvalues, eigenvectors = np.linalg.eig(A)\n",
    "\n",
    "print(\"Eigenvalues:\")\n",
    "print(eigenvalues[4])\n",
    "print(\"Eigenvectors:\")\n",
    "print(eigenvectors[:,4])"
   ]
  }
 ],
 "metadata": {
  "kernelspec": {
   "display_name": "base",
   "language": "python",
   "name": "python3"
  },
  "language_info": {
   "codemirror_mode": {
    "name": "ipython",
    "version": 3
   },
   "file_extension": ".py",
   "mimetype": "text/x-python",
   "name": "python",
   "nbconvert_exporter": "python",
   "pygments_lexer": "ipython3",
   "version": "3.9.15"
  }
 },
 "nbformat": 4,
 "nbformat_minor": 2
}
