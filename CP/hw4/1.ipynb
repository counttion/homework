{
 "cells": [
  {
   "cell_type": "code",
   "execution_count": 1,
   "metadata": {},
   "outputs": [],
   "source": [
    "import numpy as np"
   ]
  },
  {
   "cell_type": "code",
   "execution_count": 2,
   "metadata": {},
   "outputs": [],
   "source": [
    "A = np.array([[0.05,0.07,0.06,0.05],[0.07,0.1,0.08,0.07],[0.06,0.08,0.1,0.09],[0.05,0.07,0.09,0.1]])\n",
    "b = np.array([0.23,0.32,0.33,0.31])"
   ]
  },
  {
   "cell_type": "markdown",
   "metadata": {},
   "source": [
    "标准答案"
   ]
  },
  {
   "cell_type": "code",
   "execution_count": 29,
   "metadata": {},
   "outputs": [
    {
     "name": "stdout",
     "output_type": "stream",
     "text": [
      "[1. 1. 1. 1.]\n"
     ]
    }
   ],
   "source": [
    "x = np.linalg.solve(A, b)\n",
    "print(x)"
   ]
  },
  {
   "cell_type": "markdown",
   "metadata": {},
   "source": [
    "最速下降法"
   ]
  },
  {
   "cell_type": "code",
   "execution_count": 30,
   "metadata": {},
   "outputs": [],
   "source": [
    "def cal_1(A,b):\n",
    "    x = np.array([0.0,0.0,0.0,0.0])\n",
    "    r = b-np.dot(A,x)\n",
    "    epsilon = 10**-5\n",
    "    while(np.linalg.norm(r)>epsilon):\n",
    "        alpha = np.dot(r,r)/np.dot(r,np.dot(A,r))\n",
    "        x += alpha * r\n",
    "        r -= alpha*np.dot(A,r)\n",
    "    print(x)"
   ]
  },
  {
   "cell_type": "code",
   "execution_count": 31,
   "metadata": {},
   "outputs": [
    {
     "name": "stdout",
     "output_type": "stream",
     "text": [
      "[0.92824216 1.04335172 1.01803114 0.98931875]\n"
     ]
    }
   ],
   "source": [
    "cal_1(A,b)"
   ]
  },
  {
   "cell_type": "markdown",
   "metadata": {},
   "source": [
    "共轭梯度法"
   ]
  },
  {
   "cell_type": "code",
   "execution_count": 33,
   "metadata": {},
   "outputs": [],
   "source": [
    "def cal_2(A,b):\n",
    "    x = np.array([0.5,0.5,0.5,0.5])\n",
    "    r = b-np.dot(A,x)\n",
    "    p = r\n",
    "    epsilon = 10**-5\n",
    "    while(np.linalg.norm(r)>epsilon):\n",
    "        alpha = np.dot(r,r)/np.dot(p,np.dot(A,p))\n",
    "        x += alpha * p\n",
    "        rpre = r\n",
    "        r -= alpha*np.dot(A,p)\n",
    "        beta = np.dot(r,r)/np.dot(rpre,rpre)\n",
    "        p = r + beta*p\n",
    "    print(x)"
   ]
  },
  {
   "cell_type": "code",
   "execution_count": 34,
   "metadata": {},
   "outputs": [
    {
     "name": "stdout",
     "output_type": "stream",
     "text": [
      "[0.9996097  1.00000527 1.00017104 1.0000978 ]\n"
     ]
    }
   ],
   "source": [
    "cal_2(A,b)"
   ]
  }
 ],
 "metadata": {
  "kernelspec": {
   "display_name": "base",
   "language": "python",
   "name": "python3"
  },
  "language_info": {
   "codemirror_mode": {
    "name": "ipython",
    "version": 3
   },
   "file_extension": ".py",
   "mimetype": "text/x-python",
   "name": "python",
   "nbconvert_exporter": "python",
   "pygments_lexer": "ipython3",
   "version": "3.8.8"
  }
 },
 "nbformat": 4,
 "nbformat_minor": 2
}
