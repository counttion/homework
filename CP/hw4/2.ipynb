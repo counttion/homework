{
 "cells": [
  {
   "cell_type": "code",
   "execution_count": 88,
   "metadata": {},
   "outputs": [],
   "source": [
    "import numpy as np"
   ]
  },
  {
   "cell_type": "markdown",
   "metadata": {},
   "source": [
    "该函数获得T矩阵中最大的非对角元"
   ]
  },
  {
   "cell_type": "code",
   "execution_count": 89,
   "metadata": {},
   "outputs": [],
   "source": [
    "def getmaxindex(T):\n",
    "    uper_triangle = np.triu(T, k=1)\n",
    "    max_index = np.unravel_index(np.argmax(np.abs(uper_triangle)), uper_triangle.shape)\n",
    "    return max_index"
   ]
  },
  {
   "cell_type": "markdown",
   "metadata": {},
   "source": [
    "QR算法，设置停止条件为10的-4次方，每次迭代使用3次givens旋转进行QR分解，每5轮迭代输出一次T矩阵"
   ]
  },
  {
   "cell_type": "code",
   "execution_count": 90,
   "metadata": {},
   "outputs": [
    {
     "name": "stdout",
     "output_type": "stream",
     "text": [
      "5 [[ 4.29276628e+00 -7.21313977e-01 -8.18666697e-17 -5.43358514e-16]\n",
      " [-7.21313977e-01  3.55611356e+00 -3.34967464e-01  2.34289842e-16]\n",
      " [-4.81736808e-17 -3.34967464e-01  1.89640130e+00 -3.99652715e-04]\n",
      " [-2.29665523e-16  2.47087812e-17 -3.99652715e-04  2.54718859e-01]]\n",
      "10 [[ 4.73418406e+00 -1.31448547e-01 -1.93246264e-16 -5.88422845e-16]\n",
      " [-1.31448547e-01  3.18812610e+00 -1.85822775e-02 -5.23882601e-17]\n",
      " [-4.91447089e-17 -1.85822775e-02  1.82297108e+00 -2.07643132e-08]\n",
      " [-2.15069804e-16 -8.42262145e-17 -2.07643133e-08  2.54718760e-01]]\n",
      "15 [[ 4.74507887e+00 -1.78120256e-02 -2.13428616e-16 -5.83027491e-16]\n",
      " [-1.78120256e-02  3.17748431e+00 -1.15075434e-03 -9.57586083e-17]\n",
      " [-4.90024094e-17 -1.15075434e-03  1.82271806e+00 -1.10653406e-12]\n",
      " [-2.08367533e-16 -9.96575175e-17 -1.10658672e-12  2.54718760e-01]]\n",
      "20 [[ 4.74527757e+00 -2.39738535e-03 -2.16210952e-16 -5.82057684e-16]\n",
      " [-2.39738535e-03  3.17728658e+00 -7.14944440e-05 -1.01528010e-16]\n",
      " [-4.90014462e-17 -7.14944440e-05  1.82271708e+00 -6.32650951e-18]\n",
      " [-2.07377671e-16 -1.01701275e-16 -5.89837548e-17  2.54718760e-01]]\n",
      "25 [[ 4.74528117e+00 -3.22632786e-04 -2.16592401e-16 -5.81922832e-16]\n",
      " [-3.22632786e-04  3.17728299e+00 -4.44210350e-06 -1.02300699e-16]\n",
      " [-4.90014294e-17 -4.44210350e-06  1.82271708e+00  5.26537674e-17]\n",
      " [-2.07242919e-16 -1.01975586e-16 -3.47195046e-21  2.54718760e-01]]\n"
     ]
    }
   ],
   "source": [
    "T = np.array([[1.0,-1.0,0.0,0.0],[-1.0,2.0,-1.0,0.0],\n",
    "              [0.0,-1.0,3.0,-1.0],[0.0,0.0,-1.0,4.0]])\n",
    "k=0\n",
    "e = 10**-4\n",
    "while(np.abs(T[0][1])>e):\n",
    "    k +=1\n",
    "    Q = np.diag([1.0,1.0,1.0,1.0])\n",
    "    R = T\n",
    "    for i in range(3):\n",
    "        x1 = R[i][i]\n",
    "        x2 = R[i+1][i]\n",
    "        c = x1/np.sqrt(x1**2+x2**2)\n",
    "        s = x2/np.sqrt(x1**2+x2**2)\n",
    "        G = np.diag([1.0,1.0,1.0,1.0])\n",
    "        G[i][i] = c\n",
    "        G[i+1][i+1] = c\n",
    "        G[i][i+1] = s\n",
    "        G[i+1][i] = -1 * s\n",
    "        R = np.dot(G,R)\n",
    "        Q = np.dot(G,Q)\n",
    "    T = np.dot(R,Q.T)\n",
    "    if(k%5 ==0):\n",
    "        print(k,T)"
   ]
  },
  {
   "cell_type": "markdown",
   "metadata": {},
   "source": [
    "jacobi算法，设置停止条件为10的-6次方，每次迭代寻找T的最大非对角元，对其位置进行givens旋转使其变为0，每5轮迭代输出T矩阵"
   ]
  },
  {
   "cell_type": "code",
   "execution_count": 91,
   "metadata": {},
   "outputs": [
    {
     "name": "stdout",
     "output_type": "stream",
     "text": [
      "5 [[ 3.02671876e-01  1.98877843e-01  2.83269704e-17  3.90083050e-01]\n",
      " [ 1.98877843e-01  3.15387625e+00 -1.13689848e-01  1.15838509e-16]\n",
      " [ 6.75012884e-17 -1.13689848e-01  1.84612375e+00  1.98877843e-01]\n",
      " [ 3.90083050e-01  2.65066327e-18  1.98877843e-01  4.69732812e+00]]\n",
      "10 [[ 2.54777527e-01  8.28956379e-04 -9.51832874e-03 -1.84018719e-03]\n",
      " [ 8.28956379e-04  3.17728268e+00 -4.96426137e-06  1.61604514e-18]\n",
      " [-9.51832874e-03 -4.96426137e-06  1.82265953e+00  8.17755211e-04]\n",
      " [-1.84018719e-03 -1.19810643e-16  8.17755211e-04  4.74528026e+00]]\n",
      "15 [[ 2.54718760e-01 -2.52080934e-12  3.41591974e-07  1.92963626e-10]\n",
      " [-2.52071295e-12  3.17728292e+00 -3.08506021e-22 -3.41591974e-07]\n",
      " [ 3.41591974e-07 -2.28100143e-17  1.82271708e+00 -2.52080926e-12]\n",
      " [ 1.92963590e-10 -3.41591974e-07 -2.52086171e-12  4.74528124e+00]]\n"
     ]
    }
   ],
   "source": [
    "T = np.array([[1.0,-1.0,0.0,0.0],[-1.0,2.0,-1.0,0.0],\n",
    "              [0.0,-1.0,3.0,-1.0],[0.0,0.0,-1.0,4.0]])\n",
    "k=0\n",
    "e = 10**-6\n",
    "p,q = getmaxindex(T)\n",
    "item = T[p][q]\n",
    "while(np.abs(item)>e):\n",
    "    k+=1\n",
    "    app = T[p][p]\n",
    "    aqq = T[q][q]\n",
    "    apq = T[p][q]\n",
    "    nenta = (aqq-app)/(2*apq)\n",
    "    if(nenta>=0):\n",
    "        t = 1/(nenta+np.sqrt(1+nenta**2))\n",
    "    else:\n",
    "        t = -1/(-1*nenta+np.sqrt(1+nenta**2))\n",
    "    c = 1/np.sqrt(1+t**2)\n",
    "    s = c*t\n",
    "    G = np.diag([1.0,1.0,1.0,1.0])\n",
    "    G[p,p] = c\n",
    "    G[q,q] = c\n",
    "    G[p,q]=s\n",
    "    G[q,p] = -s\n",
    "    T = np.dot(np.dot(G.T,T),G)\n",
    "    if(k%5 ==0):\n",
    "        print(k,T)\n",
    "    p,q = getmaxindex(T)\n",
    "    item = T[p][q]"
   ]
  },
  {
   "cell_type": "markdown",
   "metadata": {},
   "source": [
    "sturm序列和对分法求本征值，其中p函数的计算是手动进行的，然后每次迭代对四个零点分别使用对分法，当区间长度小于e时停止"
   ]
  },
  {
   "cell_type": "code",
   "execution_count": 104,
   "metadata": {},
   "outputs": [
    {
     "name": "stdout",
     "output_type": "stream",
     "text": [
      "5 [4.84375 3.28125 1.71875 0.15625]\n",
      "10 [4.74121094 3.17871094 1.82128906 0.25878906]\n",
      "15 [4.74533081 3.17733765 1.82266235 0.25466919]\n",
      "20 [4.74527836 3.17728519 1.82271481 0.25472164]\n"
     ]
    }
   ],
   "source": [
    "def p0(x):\n",
    "    return 1\n",
    "def p1(x):\n",
    "    return 1-x\n",
    "def p2(x):\n",
    "    return x**2-3*x+1\n",
    "def p3(x):\n",
    "    return -x**3+6*(x**2)-9*x+2\n",
    "def p4(x):\n",
    "    return x**4-10*x**3+32*x**2-35*x+7\n",
    "p = np.array([p0,p1,p2,p3,p4])\n",
    "# 没用上\n",
    "# d = np.array([1.0,2.0,3.0,4.0])\n",
    "# b = np.array([-1.0,-1.0,-1.0])\n",
    "# alpha = 0.0\n",
    "# beta = 5.0\n",
    "a = np.array([0.0,0.0,0.0,0.0])\n",
    "b = np.array([5.0,5.0,5.0,5.0])\n",
    "e = 10**-6\n",
    "k=0\n",
    "while(np.abs(a[0]-b[0])>e):\n",
    "    k+=1\n",
    "    c = (a+b)/2\n",
    "    result = np.zeros((5, 4))\n",
    "    for i in range(4):\n",
    "        change = 0\n",
    "        T = np.zeros((5,))\n",
    "        for j in range(5):\n",
    "            if(j==0):\n",
    "                T[j] = p[j](c[i])\n",
    "            else:\n",
    "                T[j] = p[j](c[i])\n",
    "                if(T[j]==0 or T[j]*T[j-1]<0):\n",
    "                    change+=1\n",
    "        if(change > (3-i)):\n",
    "            b[i] = c[i]\n",
    "        else:\n",
    "            a[i] = c[i]\n",
    "    if(k%5 ==0):\n",
    "        print(k,c)\n",
    "\n",
    "    \n"
   ]
  },
  {
   "cell_type": "markdown",
   "metadata": {},
   "source": [
    "np库函数，作为标准答案"
   ]
  },
  {
   "cell_type": "code",
   "execution_count": null,
   "metadata": {},
   "outputs": [
    {
     "name": "stdout",
     "output_type": "stream",
     "text": [
      "Eigenvalues:\n",
      "[0.25471876 1.82271708 3.17728292 4.74528124]\n",
      "Eigenvectors:\n",
      "[[ 0.77795055 -0.55327108 -0.29117378 -0.06246513]\n",
      " [ 0.57979195  0.45518556  0.6339677   0.23394946]\n",
      " [ 0.23394946  0.6339677  -0.45518556 -0.57979195]\n",
      " [ 0.06246513  0.29117378 -0.55327108  0.77795055]]\n"
     ]
    }
   ],
   "source": [
    "import numpy as np\n",
    "\n",
    "# 定义矩阵T\n",
    "T = np.array([[1.0, -1.0, 0.0, 0.0],\n",
    "              [-1.0, 2.0, -1.0, 0.0],\n",
    "              [0.0, -1.0, 3.0, -1.0],\n",
    "              [0.0, 0.0, -1.0, 4.0]])\n",
    "\n",
    "# 求解T的本征矢和本征值\n",
    "eigenvalues, eigenvectors = np.linalg.eig(T)\n",
    "\n",
    "print(\"Eigenvalues:\")\n",
    "print(eigenvalues)\n",
    "print(\"Eigenvectors:\")\n",
    "print(eigenvectors)\n"
   ]
  }
 ],
 "metadata": {
  "kernelspec": {
   "display_name": "base",
   "language": "python",
   "name": "python3"
  },
  "language_info": {
   "codemirror_mode": {
    "name": "ipython",
    "version": 3
   },
   "file_extension": ".py",
   "mimetype": "text/x-python",
   "name": "python",
   "nbconvert_exporter": "python",
   "pygments_lexer": "ipython3",
   "version": "3.9.15"
  }
 },
 "nbformat": 4,
 "nbformat_minor": 2
}
