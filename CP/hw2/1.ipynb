{
 "cells": [
  {
   "cell_type": "code",
   "execution_count": 2,
   "metadata": {},
   "outputs": [
    {
     "name": "stdout",
     "output_type": "stream",
     "text": [
      "[[0.05 0.07 0.06 0.05]\n",
      " [0.07 0.1  0.08 0.07]\n",
      " [0.06 0.08 0.1  0.09]\n",
      " [0.05 0.07 0.09 0.1 ]]\n"
     ]
    }
   ],
   "source": [
    "import numpy as np\n",
    "a = np.array([0.05,0.07,0.06,0.05,0.07,0.10,0.08,0.07,0.06,0.08,0.10,0.09,0.05,0.07,0.09,0.10])\n",
    "a = a.reshape(4,4)\n",
    "print(a)"
   ]
  },
  {
   "cell_type": "code",
   "execution_count": 3,
   "metadata": {},
   "outputs": [
    {
     "name": "stdout",
     "output_type": "stream",
     "text": [
      "[[ 2.23606798e-01  0.00000000e+00  0.00000000e+00  0.00000000e+00]\n",
      " [ 3.13049517e-01  4.47213595e-02  0.00000000e+00  0.00000000e+00]\n",
      " [ 2.68328157e-01 -8.94427191e-02  1.41421356e-01  0.00000000e+00]\n",
      " [ 2.23606798e-01 -3.25111854e-16  2.12132034e-01  7.07106781e-02]]\n"
     ]
    }
   ],
   "source": [
    "b = np.linalg.cholesky(a)\n",
    "print(b)"
   ]
  },
  {
   "cell_type": "code",
   "execution_count": null,
   "metadata": {},
   "outputs": [],
   "source": []
  }
 ],
 "metadata": {
  "kernelspec": {
   "display_name": "Python 3",
   "language": "python",
   "name": "python3"
  },
  "language_info": {
   "codemirror_mode": {
    "name": "ipython",
    "version": 3
   },
   "file_extension": ".py",
   "mimetype": "text/x-python",
   "name": "python",
   "nbconvert_exporter": "python",
   "pygments_lexer": "ipython3",
   "version": "3.8.8"
  }
 },
 "nbformat": 4,
 "nbformat_minor": 2
}
