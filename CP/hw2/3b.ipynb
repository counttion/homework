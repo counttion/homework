{
 "cells": [
  {
   "cell_type": "markdown",
   "id": "3570ac67",
   "metadata": {},
   "source": [
    "对20个节点用chebyshev内插，然后对41个点给出两者的差，并画图显示"
   ]
  },
  {
   "cell_type": "markdown",
   "id": "ca514f85",
   "metadata": {},
   "source": [
    "构建21个节点"
   ]
  },
  {
   "cell_type": "code",
   "execution_count": 1,
   "id": "c5748201",
   "metadata": {},
   "outputs": [
    {
     "name": "stdout",
     "output_type": "stream",
     "text": [
      "[ 0  1  2  3  4  5  6  7  8  9 10 11 12 13 14 15 16 17 18 19]\n",
      "[ 0.99691733  0.97236992  0.92387953  0.85264016  0.76040597  0.64944805\n",
      "  0.52249856  0.38268343  0.23344536  0.0784591  -0.0784591  -0.23344536\n",
      " -0.38268343 -0.52249856 -0.64944805 -0.76040597 -0.85264016 -0.92387953\n",
      " -0.97236992 -0.99691733]\n"
     ]
    }
   ],
   "source": [
    "import numpy as np\n",
    "k = np.arange(0,20,1)\n",
    "x = np.cos(np.pi * (k+1/2)/20)\n",
    "print(k)\n",
    "print(x)"
   ]
  },
  {
   "cell_type": "markdown",
   "id": "0d513ac9",
   "metadata": {},
   "source": [
    "函数f(x)和21个节点的y值"
   ]
  },
  {
   "cell_type": "code",
   "execution_count": 2,
   "id": "5f311a32",
   "metadata": {},
   "outputs": [
    {
     "name": "stdout",
     "output_type": "stream",
     "text": [
      "[0.03869055 0.0405884  0.04476509 0.05215156 0.06470218 0.08662082\n",
      " 0.12779359 0.21453863 0.42329504 0.86662942 0.86662942 0.42329504\n",
      " 0.21453863 0.12779359 0.08662082 0.06470218 0.05215156 0.04476509\n",
      " 0.0405884  0.03869055]\n"
     ]
    }
   ],
   "source": [
    "def f(x):\n",
    "    return 1/(1+25*x*x)\n",
    "print(f(x))"
   ]
  },
  {
   "cell_type": "markdown",
   "id": "34aa85dd",
   "metadata": {},
   "source": [
    "创建参数列表c，并根据公式（见ppt）计算每个c的值\n",
    "注意，c0的值在计算时已经考虑过delta，也就是说S(x)的表达式中不再需要-c0/2"
   ]
  },
  {
   "cell_type": "code",
   "execution_count": 3,
   "id": "511c0607",
   "metadata": {},
   "outputs": [
    {
     "name": "stdout",
     "output_type": "stream",
     "text": [
      "0.1959775268880164\n",
      "[0.1959775268880164, 2.0816681711721684e-18, -0.26331145807811546, 2.0816681711721684e-18, 0.17679769567269657, -1.3183898417423734e-16, -0.11857156457490899, 1.5751289161869408e-16, 0.07931688380910715, 9.020562075079397e-18, -0.05275290445276219, -4.5102810375396984e-17, 0.03462938980885905, -3.2612801348363975e-17, -0.022046577534373796, 1.9931972738973515e-16, 0.012991217665388424, -3.2265856653168614e-17, -0.0060144526228647684, -3.8640965427383376e-17]\n"
     ]
    }
   ],
   "source": [
    "c=[0] * 20\n",
    "c[0] = np.sum(f(x))/20\n",
    "print(c[0])\n",
    "for m in range(1,20):\n",
    "    res = np.cos(m*np.pi*(k+1/2)/20)\n",
    "    c[m] = np.sum(res * f(x))/10\n",
    "print(c)"
   ]
  },
  {
   "cell_type": "markdown",
   "id": "b182503f",
   "metadata": {},
   "source": [
    "定义chebyshev函数，并用其计算20个节点的y值"
   ]
  },
  {
   "cell_type": "code",
   "execution_count": 4,
   "id": "c8502b3b",
   "metadata": {},
   "outputs": [
    {
     "name": "stdout",
     "output_type": "stream",
     "text": [
      "[0.03869055 0.0405884  0.04476509 0.05215156 0.06470218 0.08662082\n",
      " 0.12779359 0.21453863 0.42329504 0.86662942 0.86662942 0.42329504\n",
      " 0.21453863 0.12779359 0.08662082 0.06470218 0.05215156 0.04476509\n",
      " 0.0405884  0.03869055]\n"
     ]
    }
   ],
   "source": [
    "def chebyshev(x):\n",
    "    res = 0\n",
    "    for i in range(20):\n",
    "        res += c[i] * np.cos(i*np.arccos(x))\n",
    "    return res\n",
    "chey = chebyshev(x)\n",
    "print(chey)"
   ]
  },
  {
   "cell_type": "markdown",
   "id": "b299c690",
   "metadata": {},
   "source": [
    "构建41个点，然后分别用f(x)和chebyshev(x)计算y值，并给出差"
   ]
  },
  {
   "cell_type": "code",
   "execution_count": 5,
   "id": "b0c17f16",
   "metadata": {},
   "outputs": [
    {
     "name": "stdout",
     "output_type": "stream",
     "text": [
      "[0.03846154 0.04244032 0.04705882 0.05245902 0.05882353 0.06639004\n",
      " 0.0754717  0.08648649 0.1        0.11678832 0.13793103 0.16494845\n",
      " 0.2        0.24615385 0.30769231 0.3902439  0.5        0.64\n",
      " 0.8        0.94117647 1.         0.94117647 0.8        0.64\n",
      " 0.5        0.3902439  0.30769231 0.24615385 0.2        0.16494845\n",
      " 0.13793103 0.11678832 0.1        0.08648649 0.0754717  0.06639004\n",
      " 0.05882353 0.05245902 0.04705882 0.04244032 0.03846154]\n",
      "[0.03701576 0.04084866 0.0486852  0.05226088 0.05671349 0.0671692\n",
      " 0.07825215 0.0865337  0.09641294 0.11412551 0.14052347 0.17112412\n",
      " 0.20276314 0.2401748  0.29633274 0.38533503 0.51189455 0.6638541\n",
      " 0.81260597 0.92207346 0.96240967 0.92207346 0.81260597 0.6638541\n",
      " 0.51189455 0.38533503 0.29633274 0.2401748  0.20276314 0.17112412\n",
      " 0.14052347 0.11412551 0.09641294 0.0865337  0.07825215 0.0671692\n",
      " 0.05671349 0.05226088 0.0486852  0.04084866        nan]\n",
      "[-1.44578188e-03 -1.59165598e-03  1.62638035e-03 -1.98134879e-04\n",
      " -2.11003585e-03  7.79157629e-04  2.78044720e-03  4.72094964e-05\n",
      " -3.58706094e-03 -2.66280977e-03  2.59243648e-03  6.17566552e-03\n",
      "  2.76313951e-03 -5.97904355e-03 -1.13595676e-02 -4.90886935e-03\n",
      "  1.18945489e-02  2.38540989e-02  1.26059682e-02 -1.91030072e-02\n",
      " -3.75903289e-02 -1.91030072e-02  1.26059682e-02  2.38540989e-02\n",
      "  1.18945489e-02 -4.90886935e-03 -1.13595676e-02 -5.97904355e-03\n",
      "  2.76313951e-03  6.17566552e-03  2.59243648e-03 -2.66280977e-03\n",
      " -3.58706094e-03  4.72094964e-05  2.78044720e-03  7.79157629e-04\n",
      " -2.11003585e-03 -1.98134879e-04  1.62638035e-03 -1.59165598e-03\n",
      "             nan]\n"
     ]
    },
    {
     "name": "stderr",
     "output_type": "stream",
     "text": [
      "<ipython-input-4-0192cb001ba6>:4: RuntimeWarning: invalid value encountered in arccos\n",
      "  res += c[i] * np.cos(i*np.arccos(x))\n"
     ]
    }
   ],
   "source": [
    "xshowlist = np.arange(-1,1.05,0.05)\n",
    "fshowlist = f(xshowlist)\n",
    "chshowlist = chebyshev(xshowlist)\n",
    "print(fshowlist)\n",
    "print(chshowlist)\n",
    "print(chshowlist-fshowlist)"
   ]
  },
  {
   "cell_type": "markdown",
   "id": "4221fc10",
   "metadata": {},
   "source": [
    "画图显示两条曲线"
   ]
  },
  {
   "cell_type": "code",
   "execution_count": 6,
   "id": "f9909bc4",
   "metadata": {},
   "outputs": [
    {
     "data": {
      "image/png": "[encoded data removed]",
      "text/plain": [
       "<Figure size 432x288 with 1 Axes>"
      ]
     },
     "metadata": {
      "needs_background": "light"
     },
     "output_type": "display_data"
    }
   ],
   "source": [
    "import matplotlib.pyplot as plt\n",
    "\n",
    "plt.plot(xshowlist, fshowlist, label='f')\n",
    "plt.plot(xshowlist, chshowlist, label='ch')\n",
    "\n",
    "plt.legend()\n",
    "\n",
    "plt.xlabel('x')\n",
    "plt.ylabel('y')\n",
    "\n",
    "plt.show()"
   ]
  },
  {
   "cell_type": "markdown",
   "id": "d73b159e",
   "metadata": {},
   "source": [
    "导出数据"
   ]
  },
  {
   "cell_type": "code",
   "execution_count": 7,
   "id": "867dffd4",
   "metadata": {},
   "outputs": [],
   "source": [
    "# import pandas as pd\n",
    "# df = pd.DataFrame({'Column1': xshowlist, 'Column2': fshowlist, 'Column3': chshowlist, 'Column4': fshowlist-chshowlist})\n",
    "\n",
    "# df.to_excel('output1.xlsx', index=False)"
   ]
  }
 ],
 "metadata": {
  "kernelspec": {
   "display_name": "Python 3 (ipykernel)",
   "language": "python",
   "name": "python3"
  },
  "language_info": {
   "codemirror_mode": {
    "name": "ipython",
    "version": 3
   },
   "file_extension": ".py",
   "mimetype": "text/x-python",
   "name": "python",
   "nbconvert_exporter": "python",
   "pygments_lexer": "ipython3",
   "version": "3.8.8"
  }
 },
 "nbformat": 4,
 "nbformat_minor": 5
}
