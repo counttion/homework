{
 "cells": [
  {
   "cell_type": "markdown",
   "id": "918ebe4e",
   "metadata": {},
   "source": [
    "对21个节点使用三次样条内插f(x),然后对41个点给出两者的差，并画图显示"
   ]
  },
  {
   "cell_type": "markdown",
   "id": "3401b689",
   "metadata": {},
   "source": [
    "构建21个节点"
   ]
  },
  {
   "cell_type": "code",
   "execution_count": 1,
   "id": "9747e396",
   "metadata": {},
   "outputs": [
    {
     "name": "stdout",
     "output_type": "stream",
     "text": [
      "[-1.00000000e+00 -9.00000000e-01 -8.00000000e-01 -7.00000000e-01\n",
      " -6.00000000e-01 -5.00000000e-01 -4.00000000e-01 -3.00000000e-01\n",
      " -2.00000000e-01 -1.00000000e-01 -2.22044605e-16  1.00000000e-01\n",
      "  2.00000000e-01  3.00000000e-01  4.00000000e-01  5.00000000e-01\n",
      "  6.00000000e-01  7.00000000e-01  8.00000000e-01  9.00000000e-01\n",
      "  1.00000000e+00]\n"
     ]
    }
   ],
   "source": [
    "import numpy as np\n",
    "xlist=np.arange(-1,1.1,0.1)\n",
    "print(xlist)"
   ]
  },
  {
   "cell_type": "markdown",
   "id": "339d5592",
   "metadata": {},
   "source": [
    "函数f(x)和21个节点的y值"
   ]
  },
  {
   "cell_type": "code",
   "execution_count": 2,
   "id": "e5b86875",
   "metadata": {},
   "outputs": [
    {
     "name": "stdout",
     "output_type": "stream",
     "text": [
      "[0.03846154 0.04705882 0.05882353 0.0754717  0.1        0.13793103\n",
      " 0.2        0.30769231 0.5        0.8        1.         0.8\n",
      " 0.5        0.30769231 0.2        0.13793103 0.1        0.0754717\n",
      " 0.05882353 0.04705882 0.03846154]\n"
     ]
    }
   ],
   "source": [
    "def f(x):\n",
    "    return 1/(1+25*x*x)\n",
    "ylist = f(xlist)\n",
    "print(ylist)"
   ]
  },
  {
   "cell_type": "markdown",
   "id": "ef9620cb",
   "metadata": {},
   "source": [
    "计算μ，λ和d"
   ]
  },
  {
   "cell_type": "code",
   "execution_count": 3,
   "id": "4113c3c9",
   "metadata": {
    "scrolled": true
   },
   "outputs": [
    {
     "name": "stdout",
     "output_type": "stream",
     "text": [
      "[   0.            0.95022624    1.46503885    2.36403996    4.02081978\n",
      "    7.24137931   13.68700265   25.38461538   32.30769231  -30.\n",
      " -120.          -30.           32.30769231   25.38461538   13.68700265\n",
      "    7.24137931    4.02081978    2.36403996    1.46503885    0.95022624\n",
      "    0.        ]\n"
     ]
    }
   ],
   "source": [
    "miu = lambdaa = 0.5\n",
    "n=21\n",
    "d = 600*(ylist[:n-2]/2 + ylist[2:]/2 - ylist[1:n-1])\n",
    "d = np.concatenate(([0], d, [0]))\n",
    "print(d)"
   ]
  },
  {
   "cell_type": "markdown",
   "id": "0d1d42b9",
   "metadata": {},
   "source": [
    "创建三对角矩阵，其中a是主对角，b是下对角，c是上对角"
   ]
  },
  {
   "cell_type": "code",
   "execution_count": 4,
   "id": "848aacd0",
   "metadata": {
    "scrolled": true
   },
   "outputs": [
    {
     "name": "stdout",
     "output_type": "stream",
     "text": [
      "[1 2 2 2 2 2 2 2 2 2 2 2 2 2 2 2 2 2 2 2 1] [0.5 0.5 0.5 0.5 0.5 0.5 0.5 0.5 0.5 0.5 0.5 0.5 0.5 0.5 0.5 0.5 0.5 0.5\n",
      " 0.5 0. ] [0.  0.5 0.5 0.5 0.5 0.5 0.5 0.5 0.5 0.5 0.5 0.5 0.5 0.5 0.5 0.5 0.5 0.5\n",
      " 0.5 0.5]\n",
      "[[1.  0.  0.  0.  0.  0.  0.  0.  0.  0.  0.  0.  0.  0.  0.  0.  0.  0.\n",
      "  0.  0.  0. ]\n",
      " [0.5 2.  0.5 0.  0.  0.  0.  0.  0.  0.  0.  0.  0.  0.  0.  0.  0.  0.\n",
      "  0.  0.  0. ]\n",
      " [0.  0.5 2.  0.5 0.  0.  0.  0.  0.  0.  0.  0.  0.  0.  0.  0.  0.  0.\n",
      "  0.  0.  0. ]\n",
      " [0.  0.  0.5 2.  0.5 0.  0.  0.  0.  0.  0.  0.  0.  0.  0.  0.  0.  0.\n",
      "  0.  0.  0. ]\n",
      " [0.  0.  0.  0.5 2.  0.5 0.  0.  0.  0.  0.  0.  0.  0.  0.  0.  0.  0.\n",
      "  0.  0.  0. ]\n",
      " [0.  0.  0.  0.  0.5 2.  0.5 0.  0.  0.  0.  0.  0.  0.  0.  0.  0.  0.\n",
      "  0.  0.  0. ]\n",
      " [0.  0.  0.  0.  0.  0.5 2.  0.5 0.  0.  0.  0.  0.  0.  0.  0.  0.  0.\n",
      "  0.  0.  0. ]\n",
      " [0.  0.  0.  0.  0.  0.  0.5 2.  0.5 0.  0.  0.  0.  0.  0.  0.  0.  0.\n",
      "  0.  0.  0. ]\n",
      " [0.  0.  0.  0.  0.  0.  0.  0.5 2.  0.5 0.  0.  0.  0.  0.  0.  0.  0.\n",
      "  0.  0.  0. ]\n",
      " [0.  0.  0.  0.  0.  0.  0.  0.  0.5 2.  0.5 0.  0.  0.  0.  0.  0.  0.\n",
      "  0.  0.  0. ]\n",
      " [0.  0.  0.  0.  0.  0.  0.  0.  0.  0.5 2.  0.5 0.  0.  0.  0.  0.  0.\n",
      "  0.  0.  0. ]\n",
      " [0.  0.  0.  0.  0.  0.  0.  0.  0.  0.  0.5 2.  0.5 0.  0.  0.  0.  0.\n",
      "  0.  0.  0. ]\n",
      " [0.  0.  0.  0.  0.  0.  0.  0.  0.  0.  0.  0.5 2.  0.5 0.  0.  0.  0.\n",
      "  0.  0.  0. ]\n",
      " [0.  0.  0.  0.  0.  0.  0.  0.  0.  0.  0.  0.  0.5 2.  0.5 0.  0.  0.\n",
      "  0.  0.  0. ]\n",
      " [0.  0.  0.  0.  0.  0.  0.  0.  0.  0.  0.  0.  0.  0.5 2.  0.5 0.  0.\n",
      "  0.  0.  0. ]\n",
      " [0.  0.  0.  0.  0.  0.  0.  0.  0.  0.  0.  0.  0.  0.  0.5 2.  0.5 0.\n",
      "  0.  0.  0. ]\n",
      " [0.  0.  0.  0.  0.  0.  0.  0.  0.  0.  0.  0.  0.  0.  0.  0.5 2.  0.5\n",
      "  0.  0.  0. ]\n",
      " [0.  0.  0.  0.  0.  0.  0.  0.  0.  0.  0.  0.  0.  0.  0.  0.  0.5 2.\n",
      "  0.5 0.  0. ]\n",
      " [0.  0.  0.  0.  0.  0.  0.  0.  0.  0.  0.  0.  0.  0.  0.  0.  0.  0.5\n",
      "  2.  0.5 0. ]\n",
      " [0.  0.  0.  0.  0.  0.  0.  0.  0.  0.  0.  0.  0.  0.  0.  0.  0.  0.\n",
      "  0.5 2.  0.5]\n",
      " [0.  0.  0.  0.  0.  0.  0.  0.  0.  0.  0.  0.  0.  0.  0.  0.  0.  0.\n",
      "  0.  0.  1. ]]\n"
     ]
    }
   ],
   "source": [
    "a = np.concatenate(([1], np.full(19,2), [1]))\n",
    "b = np.concatenate((np.full(19,0.5),[0]))\n",
    "c = np.concatenate(([0], np.full(19,0.5)))\n",
    "print(a,b,c)\n",
    "mtx = np.diag(a) + np.diag(b,k=-1) + np.diag(c,k=1)\n",
    "print(mtx)"
   ]
  },
  {
   "cell_type": "markdown",
   "id": "51f33031",
   "metadata": {},
   "source": [
    "对三对角矩阵用thomas算法进行分解，创建alpha，beta并计算"
   ]
  },
  {
   "cell_type": "code",
   "execution_count": 5,
   "id": "2e611151",
   "metadata": {},
   "outputs": [
    {
     "name": "stdout",
     "output_type": "stream",
     "text": [
      "[1.         2.         1.875      1.86666667 1.86607143 1.86602871\n",
      " 1.86602564 1.86602542 1.86602541 1.8660254  1.8660254  1.8660254\n",
      " 1.8660254  1.8660254  1.8660254  1.8660254  1.8660254  1.8660254\n",
      " 1.8660254  1.8660254  1.        ]\n",
      "[0.5        0.25       0.26666667 0.26785714 0.26794258 0.26794872\n",
      " 0.26794916 0.26794919 0.26794919 0.26794919 0.26794919 0.26794919\n",
      " 0.26794919 0.26794919 0.26794919 0.26794919 0.26794919 0.26794919\n",
      " 0.26794919 0.        ]\n"
     ]
    }
   ],
   "source": [
    "alpha = np.ones(21)\n",
    "beta = np.ones(20)\n",
    "\n",
    "for i in range(20):\n",
    "    beta[i] = b[i] / alpha[i]\n",
    "    alpha[i+1] = a[i+1] - beta[i]*c[i]\n",
    "print(alpha)\n",
    "print(beta)"
   ]
  },
  {
   "cell_type": "markdown",
   "id": "5c2a51dc",
   "metadata": {},
   "source": [
    "构建分解得到的LU矩阵（其实并没有用到）"
   ]
  },
  {
   "cell_type": "code",
   "execution_count": 6,
   "id": "05316698",
   "metadata": {},
   "outputs": [
    {
     "name": "stdout",
     "output_type": "stream",
     "text": [
      "[[1.         0.         0.         0.         0.         0.\n",
      "  0.         0.         0.         0.         0.         0.\n",
      "  0.         0.         0.         0.         0.         0.\n",
      "  0.         0.         0.        ]\n",
      " [0.5        1.         0.         0.         0.         0.\n",
      "  0.         0.         0.         0.         0.         0.\n",
      "  0.         0.         0.         0.         0.         0.\n",
      "  0.         0.         0.        ]\n",
      " [0.         0.25       1.         0.         0.         0.\n",
      "  0.         0.         0.         0.         0.         0.\n",
      "  0.         0.         0.         0.         0.         0.\n",
      "  0.         0.         0.        ]\n",
      " [0.         0.         0.26666667 1.         0.         0.\n",
      "  0.         0.         0.         0.         0.         0.\n",
      "  0.         0.         0.         0.         0.         0.\n",
      "  0.         0.         0.        ]\n",
      " [0.         0.         0.         0.26785714 1.         0.\n",
      "  0.         0.         0.         0.         0.         0.\n",
      "  0.         0.         0.         0.         0.         0.\n",
      "  0.         0.         0.        ]\n",
      " [0.         0.         0.         0.         0.26794258 1.\n",
      "  0.         0.         0.         0.         0.         0.\n",
      "  0.         0.         0.         0.         0.         0.\n",
      "  0.         0.         0.        ]\n",
      " [0.         0.         0.         0.         0.         0.26794872\n",
      "  1.         0.         0.         0.         0.         0.\n",
      "  0.         0.         0.         0.         0.         0.\n",
      "  0.         0.         0.        ]\n",
      " [0.         0.         0.         0.         0.         0.\n",
      "  0.26794916 1.         0.         0.         0.         0.\n",
      "  0.         0.         0.         0.         0.         0.\n",
      "  0.         0.         0.        ]\n",
      " [0.         0.         0.         0.         0.         0.\n",
      "  0.         0.26794919 1.         0.         0.         0.\n",
      "  0.         0.         0.         0.         0.         0.\n",
      "  0.         0.         0.        ]\n",
      " [0.         0.         0.         0.         0.         0.\n",
      "  0.         0.         0.26794919 1.         0.         0.\n",
      "  0.         0.         0.         0.         0.         0.\n",
      "  0.         0.         0.        ]\n",
      " [0.         0.         0.         0.         0.         0.\n",
      "  0.         0.         0.         0.26794919 1.         0.\n",
      "  0.         0.         0.         0.         0.         0.\n",
      "  0.         0.         0.        ]\n",
      " [0.         0.         0.         0.         0.         0.\n",
      "  0.         0.         0.         0.         0.26794919 1.\n",
      "  0.         0.         0.         0.         0.         0.\n",
      "  0.         0.         0.        ]\n",
      " [0.         0.         0.         0.         0.         0.\n",
      "  0.         0.         0.         0.         0.         0.26794919\n",
      "  1.         0.         0.         0.         0.         0.\n",
      "  0.         0.         0.        ]\n",
      " [0.         0.         0.         0.         0.         0.\n",
      "  0.         0.         0.         0.         0.         0.\n",
      "  0.26794919 1.         0.         0.         0.         0.\n",
      "  0.         0.         0.        ]\n",
      " [0.         0.         0.         0.         0.         0.\n",
      "  0.         0.         0.         0.         0.         0.\n",
      "  0.         0.26794919 1.         0.         0.         0.\n",
      "  0.         0.         0.        ]\n",
      " [0.         0.         0.         0.         0.         0.\n",
      "  0.         0.         0.         0.         0.         0.\n",
      "  0.         0.         0.26794919 1.         0.         0.\n",
      "  0.         0.         0.        ]\n",
      " [0.         0.         0.         0.         0.         0.\n",
      "  0.         0.         0.         0.         0.         0.\n",
      "  0.         0.         0.         0.26794919 1.         0.\n",
      "  0.         0.         0.        ]\n",
      " [0.         0.         0.         0.         0.         0.\n",
      "  0.         0.         0.         0.         0.         0.\n",
      "  0.         0.         0.         0.         0.26794919 1.\n",
      "  0.         0.         0.        ]\n",
      " [0.         0.         0.         0.         0.         0.\n",
      "  0.         0.         0.         0.         0.         0.\n",
      "  0.         0.         0.         0.         0.         0.26794919\n",
      "  1.         0.         0.        ]\n",
      " [0.         0.         0.         0.         0.         0.\n",
      "  0.         0.         0.         0.         0.         0.\n",
      "  0.         0.         0.         0.         0.         0.\n",
      "  0.26794919 1.         0.        ]\n",
      " [0.         0.         0.         0.         0.         0.\n",
      "  0.         0.         0.         0.         0.         0.\n",
      "  0.         0.         0.         0.         0.         0.\n",
      "  0.         0.         1.        ]] [[1.         0.         0.         0.         0.         0.\n",
      "  0.         0.         0.         0.         0.         0.\n",
      "  0.         0.         0.         0.         0.         0.\n",
      "  0.         0.         0.        ]\n",
      " [0.         2.         0.5        0.         0.         0.\n",
      "  0.         0.         0.         0.         0.         0.\n",
      "  0.         0.         0.         0.         0.         0.\n",
      "  0.         0.         0.        ]\n",
      " [0.         0.         1.875      0.5        0.         0.\n",
      "  0.         0.         0.         0.         0.         0.\n",
      "  0.         0.         0.         0.         0.         0.\n",
      "  0.         0.         0.        ]\n",
      " [0.         0.         0.         1.86666667 0.5        0.\n",
      "  0.         0.         0.         0.         0.         0.\n",
      "  0.         0.         0.         0.         0.         0.\n",
      "  0.         0.         0.        ]\n",
      " [0.         0.         0.         0.         1.86607143 0.5\n",
      "  0.         0.         0.         0.         0.         0.\n",
      "  0.         0.         0.         0.         0.         0.\n",
      "  0.         0.         0.        ]\n",
      " [0.         0.         0.         0.         0.         1.86602871\n",
      "  0.5        0.         0.         0.         0.         0.\n",
      "  0.         0.         0.         0.         0.         0.\n",
      "  0.         0.         0.        ]\n",
      " [0.         0.         0.         0.         0.         0.\n",
      "  1.86602564 0.5        0.         0.         0.         0.\n",
      "  0.         0.         0.         0.         0.         0.\n",
      "  0.         0.         0.        ]\n",
      " [0.         0.         0.         0.         0.         0.\n",
      "  0.         1.86602542 0.5        0.         0.         0.\n",
      "  0.         0.         0.         0.         0.         0.\n",
      "  0.         0.         0.        ]\n",
      " [0.         0.         0.         0.         0.         0.\n",
      "  0.         0.         1.86602541 0.5        0.         0.\n",
      "  0.         0.         0.         0.         0.         0.\n",
      "  0.         0.         0.        ]\n",
      " [0.         0.         0.         0.         0.         0.\n",
      "  0.         0.         0.         1.8660254  0.5        0.\n",
      "  0.         0.         0.         0.         0.         0.\n",
      "  0.         0.         0.        ]\n",
      " [0.         0.         0.         0.         0.         0.\n",
      "  0.         0.         0.         0.         1.8660254  0.5\n",
      "  0.         0.         0.         0.         0.         0.\n",
      "  0.         0.         0.        ]\n",
      " [0.         0.         0.         0.         0.         0.\n",
      "  0.         0.         0.         0.         0.         1.8660254\n",
      "  0.5        0.         0.         0.         0.         0.\n",
      "  0.         0.         0.        ]\n",
      " [0.         0.         0.         0.         0.         0.\n",
      "  0.         0.         0.         0.         0.         0.\n",
      "  1.8660254  0.5        0.         0.         0.         0.\n",
      "  0.         0.         0.        ]\n",
      " [0.         0.         0.         0.         0.         0.\n",
      "  0.         0.         0.         0.         0.         0.\n",
      "  0.         1.8660254  0.5        0.         0.         0.\n",
      "  0.         0.         0.        ]\n",
      " [0.         0.         0.         0.         0.         0.\n",
      "  0.         0.         0.         0.         0.         0.\n",
      "  0.         0.         1.8660254  0.5        0.         0.\n",
      "  0.         0.         0.        ]\n",
      " [0.         0.         0.         0.         0.         0.\n",
      "  0.         0.         0.         0.         0.         0.\n",
      "  0.         0.         0.         1.8660254  0.5        0.\n",
      "  0.         0.         0.        ]\n",
      " [0.         0.         0.         0.         0.         0.\n",
      "  0.         0.         0.         0.         0.         0.\n",
      "  0.         0.         0.         0.         1.8660254  0.5\n",
      "  0.         0.         0.        ]\n",
      " [0.         0.         0.         0.         0.         0.\n",
      "  0.         0.         0.         0.         0.         0.\n",
      "  0.         0.         0.         0.         0.         1.8660254\n",
      "  0.5        0.         0.        ]\n",
      " [0.         0.         0.         0.         0.         0.\n",
      "  0.         0.         0.         0.         0.         0.\n",
      "  0.         0.         0.         0.         0.         0.\n",
      "  1.8660254  0.5        0.        ]\n",
      " [0.         0.         0.         0.         0.         0.\n",
      "  0.         0.         0.         0.         0.         0.\n",
      "  0.         0.         0.         0.         0.         0.\n",
      "  0.         1.8660254  0.5       ]\n",
      " [0.         0.         0.         0.         0.         0.\n",
      "  0.         0.         0.         0.         0.         0.\n",
      "  0.         0.         0.         0.         0.         0.\n",
      "  0.         0.         1.        ]]\n"
     ]
    }
   ],
   "source": [
    "L = np.diag(np.ones(21)) + np.diag(beta,k=-1)\n",
    "U = np.diag(alpha) + np.diag(c,k=1)\n",
    "print(L,U)"
   ]
  },
  {
   "cell_type": "markdown",
   "id": "cc648b4f",
   "metadata": {},
   "source": [
    "根据分解得到的LU矩阵，分两步求线性方程组的解m"
   ]
  },
  {
   "cell_type": "code",
   "execution_count": 7,
   "id": "0493cb68",
   "metadata": {},
   "outputs": [
    {
     "name": "stdout",
     "output_type": "stream",
     "text": [
      "[  0.           0.36154331   0.45427926   0.75141735   1.26813126\n",
      "   2.21769719   4.34383862   7.78095365  15.30157757  -4.37187931\n",
      " -57.81406035  -4.37187931  15.30157757   7.78095365   4.34383862\n",
      "   2.21769719   1.26813126   0.75141735   0.45427926   0.36154331\n",
      "   0.        ]\n"
     ]
    }
   ],
   "source": [
    "y = np.zeros(21)\n",
    "y[0] = d[0]\n",
    "for i in range(1,21):\n",
    "    y[i] = d[i] - y[i-1]*beta[i-1]\n",
    "    \n",
    "m = np.zeros(21)\n",
    "m[20] = y[20]/alpha[20]\n",
    "\n",
    "for i in range(19,-1,-1):\n",
    "    m[i] = (y[i] - c[i]*m[i+1])/alpha[i]\n",
    "\n",
    "print(m)"
   ]
  },
  {
   "cell_type": "markdown",
   "id": "e3fef0b1",
   "metadata": {},
   "source": [
    "根据解m和y值计算A，B"
   ]
  },
  {
   "cell_type": "code",
   "execution_count": 8,
   "id": "e6c859bc",
   "metadata": {},
   "outputs": [
    {
     "name": "stdout",
     "output_type": "stream",
     "text": [
      "[ 0.07994713  0.11610146  0.16152939  0.23667112  0.36348425  0.58525396\n",
      "  1.01963783  1.79773319  3.32789095  2.89070302 -2.89070302 -3.32789095\n",
      " -1.79773319 -1.01963783 -0.58525396 -0.36348425 -0.23667112 -0.16152939\n",
      " -0.11610146 -0.07994713]\n",
      "[0.03846154 0.04645625 0.0580664  0.07421934 0.09788645 0.13423487\n",
      " 0.19276027 0.29472405 0.47449737 0.80728647 1.09635677 0.80728647\n",
      " 0.47449737 0.29472405 0.19276027 0.13423487 0.09788645 0.07421934\n",
      " 0.0580664  0.04645625 0.03846154]\n"
     ]
    }
   ],
   "source": [
    "A = (ylist[1:]-ylist[:20])*10 - (m[1:] - m[:20])/60\n",
    "B = ylist - m/600\n",
    "print(A)\n",
    "print(B)"
   ]
  },
  {
   "cell_type": "markdown",
   "id": "21417349",
   "metadata": {},
   "source": [
    "三次样条函数接收x，然后判断x在哪个区间（此处使用了二分查找来获得x的索引，我认为这个算法无伤大雅，如果助教大大认为it does matter可联系我，我再改），然后根据这个区间上的函数表达式（此处利用了m,A,B）计算函数值"
   ]
  },
  {
   "cell_type": "code",
   "execution_count": 9,
   "id": "063a0d9a",
   "metadata": {},
   "outputs": [],
   "source": [
    "def g(x):\n",
    "    j = np.searchsorted(xlist,x) -1\n",
    "\n",
    "    #这是为了保证searchsorted的返回值在索引范围内\n",
    "    j[0] = 0\n",
    "    j[-1] -=1\n",
    "    \n",
    "    res = -m[j]*5*(x - xlist[j+1])**3 / 3 + m[j+1]*5*(x - xlist[j])**3 / 3 + A[j]*(x-xlist[j])+B[j]\n",
    "    return res\n"
   ]
  },
  {
   "cell_type": "markdown",
   "id": "81cc8244",
   "metadata": {},
   "source": [
    "构建41个点，然后分别用f(x)和g(x)计算y值，并给出差"
   ]
  },
  {
   "cell_type": "code",
   "execution_count": 10,
   "id": "49e0630e",
   "metadata": {},
   "outputs": [
    {
     "name": "stdout",
     "output_type": "stream",
     "text": [
      "[0.03846154 0.04244032 0.04705882 0.05245902 0.05882353 0.06639004\n",
      " 0.0754717  0.08648649 0.1        0.11678832 0.13793103 0.16494845\n",
      " 0.2        0.24615385 0.30769231 0.3902439  0.5        0.64\n",
      " 0.8        0.94117647 1.         0.94117647 0.8        0.64\n",
      " 0.5        0.3902439  0.30769231 0.24615385 0.2        0.16494845\n",
      " 0.13793103 0.11678832 0.1        0.08648649 0.0754717  0.06639004\n",
      " 0.05882353 0.05245902 0.04705882 0.04244032 0.03846154]\n",
      "[0.03846154 0.04253422 0.04705882 0.05243129 0.05882353 0.06639405\n",
      " 0.0754717  0.08647363 0.1        0.11678687 0.13793103 0.16486456\n",
      " 0.2        0.24626816 0.30769231 0.38941957 0.5        0.64316894\n",
      " 0.8        0.93886621 1.         0.93886621 0.8        0.64316894\n",
      " 0.5        0.38941957 0.30769231 0.24626816 0.2        0.16486456\n",
      " 0.13793103 0.11678687 0.1        0.08647363 0.0754717  0.06639405\n",
      " 0.05882353 0.05243129 0.04705882 0.04253422 0.03846154]\n",
      "[ 0.00000000e+00  9.38981259e-05  6.93889390e-18 -2.77290267e-05\n",
      "  0.00000000e+00  4.01188874e-06  0.00000000e+00 -1.28553078e-05\n",
      "  1.38777878e-17 -1.44670285e-06  0.00000000e+00 -8.38962450e-05\n",
      "  0.00000000e+00  1.14312527e-04  0.00000000e+00 -8.24330602e-04\n",
      "  0.00000000e+00  3.16893859e-03 -1.11022302e-16 -2.31025831e-03\n",
      "  2.22044605e-16 -2.31025831e-03  2.22044605e-16  3.16893859e-03\n",
      " -5.55111512e-17 -8.24330602e-04 -5.55111512e-17  1.14312527e-04\n",
      " -8.32667268e-17 -8.38962450e-05  0.00000000e+00 -1.44670285e-06\n",
      "  0.00000000e+00 -1.28553078e-05  0.00000000e+00  4.01188874e-06\n",
      " -1.38777878e-17 -2.77290267e-05  6.93889390e-18  9.38981259e-05\n",
      " -2.08166817e-17]\n"
     ]
    }
   ],
   "source": [
    "xshowlist = np.arange(-1,1.05,0.05)\n",
    "fshowlist = f(xshowlist)\n",
    "gshowlist = g(xshowlist)\n",
    "print(fshowlist)\n",
    "print(gshowlist)\n",
    "print(gshowlist-fshowlist)"
   ]
  },
  {
   "cell_type": "markdown",
   "id": "6fad9755",
   "metadata": {},
   "source": [
    "画图显示两条曲线"
   ]
  },
  {
   "cell_type": "code",
   "execution_count": 11,
   "id": "ac1211f8",
   "metadata": {},
   "outputs": [
    {
     "data": {
      "image/png": "[encoded data removed]",
      "text/plain": [
       "<Figure size 432x288 with 1 Axes>"
      ]
     },
     "metadata": {
      "needs_background": "light"
     },
     "output_type": "display_data"
    }
   ],
   "source": [
    "import matplotlib.pyplot as plt\n",
    "\n",
    "plt.plot(xshowlist, fshowlist, label='f')\n",
    "plt.plot(xshowlist, gshowlist, label='g')\n",
    "\n",
    "plt.legend()\n",
    "\n",
    "plt.xlabel('x')\n",
    "plt.ylabel('y')\n",
    "plt.show()"
   ]
  },
  {
   "cell_type": "markdown",
   "id": "fd95cfbb",
   "metadata": {},
   "source": [
    "导出数据"
   ]
  },
  {
   "cell_type": "code",
   "execution_count": 12,
   "id": "05f7b9f9",
   "metadata": {},
   "outputs": [],
   "source": [
    "# import pandas as pd\n",
    "# df = pd.DataFrame({'Column1': xshowlist, 'Column2': fshowlist, 'Column3': gshowlist, 'Column4': fshowlist-gshowlist})\n",
    "\n",
    "# df.to_excel('output2.xlsx', index=False)"
   ]
  }
 ],
 "metadata": {
  "kernelspec": {
   "display_name": "Python 3 (ipykernel)",
   "language": "python",
   "name": "python3"
  },
  "language_info": {
   "codemirror_mode": {
    "name": "ipython",
    "version": 3
   },
   "file_extension": ".py",
   "mimetype": "text/x-python",
   "name": "python",
   "nbconvert_exporter": "python",
   "pygments_lexer": "ipython3",
   "version": "3.8.8"
  }
 },
 "nbformat": 4,
 "nbformat_minor": 5
}
