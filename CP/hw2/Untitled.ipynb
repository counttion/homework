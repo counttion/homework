{
 "cells": [
  {
   "cell_type": "code",
   "execution_count": 4,
   "id": "d64c6acb",
   "metadata": {},
   "outputs": [
    {
     "name": "stdout",
     "output_type": "stream",
     "text": [
      "[ 0.39886556 -1.86611778 -3.89082444]\n"
     ]
    }
   ],
   "source": [
    "import numpy as np\n",
    "import math\n",
    "\n",
    "# 构建3阶矩阵\n",
    "matrix = np.array([[1.2, 0.6, 0],\n",
    "                   [0.6, 1.8, 0.3],\n",
    "                   [0, 0.3, 0.6]])\n",
    "\n",
    "# 构建向量\n",
    "vector = np.array([-0.641032, -4.28694, -2.89433])\n",
    "\n",
    "x =np.linalg.solve(matrix, vector)\n",
    "print(x)\n"
   ]
  },
  {
   "cell_type": "code",
   "execution_count": 6,
   "id": "9894af00",
   "metadata": {},
   "outputs": [
    {
     "name": "stdout",
     "output_type": "stream",
     "text": [
      "0.11965970612989134 -0.7200926357539595 0.9760680666666667 0.9638885903446015\n"
     ]
    }
   ],
   "source": [
    "h1=0.6\n",
    "h2=0.3\n",
    "y1=1\n",
    "y2= math.cos(0.6**2)\n",
    "y3 = math.cos(0.9**2)\n",
    "a1=(y2-y1)/h1-h1*(x[1]-x[0])/6\n",
    "b1=y1- x[0]*h1*h1/6\n",
    "a2=(y3-y2)/h2 - h2 * (x[2]-x[1])/6\n",
    "b2 = y2 - x[1]*h2*h2/6\n",
    "print(a1,a2,b1,b2)"
   ]
  },
  {
   "cell_type": "code",
   "execution_count": 7,
   "id": "54107f79",
   "metadata": {},
   "outputs": [
    {
     "name": "stdout",
     "output_type": "stream",
     "text": [
      "-0.11079598765432101 -0.5183660493827161 1.0367320987654323 -2.1615691358024693\n"
     ]
    }
   ],
   "source": [
    "s11 = -1 * x[0]/6/h1\n",
    "s12 = x[1]/6/h1\n",
    "s21 = -1*x[1]/6/h2\n",
    "s22 = x[2]/6/h2\n",
    "print(s11,s12,s21,s22)"
   ]
  },
  {
   "cell_type": "code",
   "execution_count": null,
   "id": "eea59088",
   "metadata": {},
   "outputs": [],
   "source": []
  }
 ],
 "metadata": {
  "kernelspec": {
   "display_name": "Python 3 (ipykernel)",
   "language": "python",
   "name": "python3"
  },
  "language_info": {
   "codemirror_mode": {
    "name": "ipython",
    "version": 3
   },
   "file_extension": ".py",
   "mimetype": "text/x-python",
   "name": "python",
   "nbconvert_exporter": "python",
   "pygments_lexer": "ipython3",
   "version": "3.9.15"
  }
 },
 "nbformat": 4,
 "nbformat_minor": 5
}
