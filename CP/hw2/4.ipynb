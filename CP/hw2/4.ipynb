{
 "cells": [
  {
   "cell_type": "markdown",
   "metadata": {},
   "source": [
    "此程序给出过9个点的两个三次样条函数S(X;t)和S(Y;t)"
   ]
  },
  {
   "cell_type": "markdown",
   "metadata": {},
   "source": [
    "构建t，然后计算对应的φ"
   ]
  },
  {
   "cell_type": "code",
   "execution_count": 66,
   "metadata": {},
   "outputs": [
    {
     "name": "stdout",
     "output_type": "stream",
     "text": [
      "[0 1 2 3 4 5 6 7 8]\n",
      "[0.         0.78539816 1.57079633 2.35619449 3.14159265 3.92699082\n",
      " 4.71238898 5.49778714 6.28318531]\n"
     ]
    }
   ],
   "source": [
    "import numpy as np\n",
    "tlist = np.arange(0,9,1)\n",
    "def phi(t):\n",
    "    phi = t*np.pi/4\n",
    "    return phi\n",
    "print(tlist)\n",
    "print(phi(tlist))"
   ]
  },
  {
   "cell_type": "markdown",
   "metadata": {},
   "source": [
    "计算对应的x，y"
   ]
  },
  {
   "cell_type": "code",
   "execution_count": 67,
   "metadata": {},
   "outputs": [],
   "source": [
    "def x(t):\n",
    "    x = (1-np.cos(phi(t)))*np.cos(phi(t))\n",
    "    return x\n",
    "def y(t):\n",
    "    y = (1-np.cos(phi(t))) * np.sin(phi(t))\n",
    "    return y\n",
    "xlist = x(tlist)\n",
    "ylist = y(tlist)"
   ]
  },
  {
   "cell_type": "markdown",
   "metadata": {},
   "source": [
    "传入函数值(x or y)，获得三次样条函数内插各个区间上的系数，以m，A，B三个列表的形式范围。步骤与3c中的完全相同"
   ]
  },
  {
   "cell_type": "code",
   "execution_count": 68,
   "metadata": {},
   "outputs": [],
   "source": [
    "def getMAB(y):\n",
    "    n=9\n",
    "    d = 6*(y[:n-2]/2 + y[2:]/2 - y[1:n-1])\n",
    "    d = np.concatenate(([0], d, [0]))\n",
    "    a = np.concatenate(([1], np.full(n-2,2), [1]))\n",
    "    b = np.concatenate((np.full(n-2,0.5),[0]))\n",
    "    c = np.concatenate(([0], np.full(n-2,0.5)))\n",
    "    alpha = np.ones(n)\n",
    "    beta = np.ones(n-1)\n",
    "    for i in range(n-1):\n",
    "        beta[i] = b[i] / alpha[i]\n",
    "        alpha[i+1] = a[i+1] - beta[i]*c[i]\n",
    "    yy = np.zeros(n)\n",
    "    yy[0] = d[0]\n",
    "    for i in range(1,n):\n",
    "        yy[i] = d[i] - yy[i] * beta[i-1]\n",
    "    m = np.zeros(n)\n",
    "    m[n-1] = yy[n-1] / alpha[n-1]\n",
    "\n",
    "    for i in range(n-2,-1,-1):\n",
    "        m[i] = (yy[i] - c[i] * m[i+1])/alpha[i]\n",
    "    A = (y[1:] - y[:n-1]) - (m[1:] - m[:n-1])/6\n",
    "    B = y-m/6\n",
    "    return m,A,B"
   ]
  },
  {
   "cell_type": "markdown",
   "metadata": {},
   "source": [
    "调用函数获得m，A，B"
   ]
  },
  {
   "cell_type": "code",
   "execution_count": 69,
   "metadata": {},
   "outputs": [],
   "source": [
    "mx,Ax,Bx = getMAB(xlist)\n",
    "my,Ay,By = getMAB(ylist)"
   ]
  },
  {
   "cell_type": "markdown",
   "metadata": {},
   "source": [
    "定义三次样条函数"
   ]
  },
  {
   "cell_type": "code",
   "execution_count": 70,
   "metadata": {},
   "outputs": [],
   "source": [
    "def gx(t):\n",
    "    j = np.searchsorted(tlist,t) -1\n",
    "\n",
    "    #这是为了保证searchsorted的返回值在索引范围内\n",
    "    np.clip(j,0,8)\n",
    "    j[0] = 0 \n",
    "\n",
    "    res = -mx[j] *(t-tlist[j+1])**3/6 + mx[j+1]*(t-tlist[j])**3/6+Ax[j]*(t-tlist[j])+Bx[j]\n",
    "    return res\n",
    "\n",
    "def gy(t):\n",
    "    j = np.searchsorted(tlist,t) -1\n",
    "    np.clip(j,0,8)\n",
    "    j[0] = 0\n",
    "    res = -my[j] *(t-tlist[j+1])**3/6 + my[j+1]*(t-tlist[j])**3/6+Ay[j]*(t-tlist[j])+By[j]\n",
    "    return res"
   ]
  },
  {
   "cell_type": "markdown",
   "metadata": {},
   "source": [
    "在0到8的范围内创建很多个点用于显示，分别计算其精确x值，精确y值，样条x值，样条y值"
   ]
  },
  {
   "cell_type": "code",
   "execution_count": 71,
   "metadata": {},
   "outputs": [],
   "source": [
    "tshowlist = np.arange(0,8.0,0.02)\n",
    "xshowlist = x(tshowlist)\n",
    "gxshowlist = gx(tshowlist)\n",
    "yshowlist = y(tshowlist)\n",
    "gyshowlist = gy(tshowlist)"
   ]
  },
  {
   "cell_type": "markdown",
   "metadata": {},
   "source": [
    "画出严格心型线和样条内插心型线，并在图上标注9个节点"
   ]
  },
  {
   "cell_type": "code",
   "execution_count": 72,
   "metadata": {},
   "outputs": [
    {
     "data": {
      "image/png": "[encoded data removed]",
      "text/plain": [
       "<Figure size 432x288 with 1 Axes>"
      ]
     },
     "metadata": {
      "needs_background": "light"
     },
     "output_type": "display_data"
    }
   ],
   "source": [
    "import matplotlib.pyplot as plt\n",
    "\n",
    "plt.plot(xshowlist, yshowlist, label='origin')\n",
    "plt.plot(gxshowlist, gyshowlist, label='fitting')\n",
    "plt.scatter(xlist,ylist,s=100,c='red')\n",
    "plt.legend()\n",
    "\n",
    "plt.xlabel('x')\n",
    "plt.ylabel('y')\n",
    "\n",
    "plt.show()"
   ]
  }
 ],
 "metadata": {
  "kernelspec": {
   "display_name": "Python 3",
   "language": "python",
   "name": "python3"
  },
  "language_info": {
   "codemirror_mode": {
    "name": "ipython",
    "version": 3
   },
   "file_extension": ".py",
   "mimetype": "text/x-python",
   "name": "python",
   "nbconvert_exporter": "python",
   "pygments_lexer": "ipython3",
   "version": "3.8.8"
  }
 },
 "nbformat": 4,
 "nbformat_minor": 2
}
