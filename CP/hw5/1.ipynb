{
 "cells": [
  {
   "cell_type": "code",
   "execution_count": 9,
   "metadata": {},
   "outputs": [],
   "source": [
    "import numpy as np\n",
    "import matplotlib.pyplot as plt\n",
    "tin = 0\n",
    "tfinal = 1\n",
    "nstep = 20000\n",
    "tstep = (tfinal - tin)/nstep"
   ]
  },
  {
   "cell_type": "markdown",
   "metadata": {},
   "source": [
    "欧拉法"
   ]
  },
  {
   "cell_type": "code",
   "execution_count": 10,
   "metadata": {},
   "outputs": [],
   "source": [
    "def euler():\n",
    "    u = np.zeros(nstep + 1)\n",
    "    y = np.zeros(nstep + 1)\n",
    "    u[0] = 1\n",
    "    y[0] = 0\n",
    "    for i in range(nstep):\n",
    "        y[i+1] = y[i] + tstep * (-u[i])\n",
    "        u[i+1] = u[i] + tstep * (y[i])\n",
    "    return u,y"
   ]
  },
  {
   "cell_type": "markdown",
   "metadata": {},
   "source": [
    "二阶差分法"
   ]
  },
  {
   "cell_type": "code",
   "execution_count": 14,
   "metadata": {},
   "outputs": [],
   "source": [
    "def calc2():\n",
    "    u = np.zeros(nstep + 1)\n",
    "    y = np.zeros(nstep + 1)\n",
    "    u[0] = 1\n",
    "    y[0] = 0\n",
    "    u[1] = u[0] + tstep * y[0]\n",
    "    for i in range(2,nstep+1):\n",
    "        u[i] = (2-tstep**2)*u[i-1] - u[i-2]\n",
    "    for i in range(nstep):\n",
    "        y[i+1] = y[i] + tstep * (-u[i])\n",
    "    return u,y"
   ]
  },
  {
   "cell_type": "markdown",
   "metadata": {},
   "source": [
    "rk4"
   ]
  },
  {
   "cell_type": "code",
   "execution_count": 20,
   "metadata": {},
   "outputs": [],
   "source": [
    "def yt(y,u):\n",
    "    return -u\n",
    "def ut(y,u):\n",
    "    return y\n",
    "\n",
    "def calc3():\n",
    "    u = np.zeros(nstep + 1)\n",
    "    y = np.zeros(nstep + 1)\n",
    "    u[0] = 1\n",
    "    y[0] = 0\n",
    "    for i in range(1,nstep+1):\n",
    "        yk1 = yt(y[i-1],u[i-1])\n",
    "        uk1 = ut(y[i-1],u[i-1])\n",
    "\n",
    "        yk2 = yt(y[i-1]+tstep*yk1/2,u[i-1])\n",
    "        uk2 = ut(y[i-1],u[i-1]+tstep*uk1/2)\n",
    "\n",
    "        yk3 = yt(y[i-1]+tstep*yk2/2,u[i-1])\n",
    "        uk3 = ut(y[i-1],u[i-1]+tstep*uk2/2)\n",
    "\n",
    "        yk4 = yt(y[i-1]+tstep*yk3/2,u[i-1])\n",
    "        uk4 = ut(y[i-1],u[i-1]+tstep*uk3/2)\n",
    "\n",
    "        y[i] = y[i-1]+tstep*(yk1+2*yk2+2*yk3+yk4)/6\n",
    "        u[i] = u[i-1]+tstep*(uk1+2*uk2+2*uk3+uk4)/6\n",
    "    return u,y"
   ]
  },
  {
   "cell_type": "code",
   "execution_count": 21,
   "metadata": {},
   "outputs": [],
   "source": [
    "u1,y1 = euler()\n",
    "u2,y2 = calc2()\n",
    "u3,y3 = calc3()"
   ]
  },
  {
   "cell_type": "code",
   "execution_count": 23,
   "metadata": {},
   "outputs": [
    {
     "data": {
      "image/png": "[encoded data removed]",
      "text/plain": [
       "<Figure size 432x288 with 1 Axes>"
      ]
     },
     "metadata": {
      "needs_background": "light"
     },
     "output_type": "display_data"
    }
   ],
   "source": [
    "plt.plot(u1, y1)\n",
    "plt.plot(u2,y2+0.1)\n",
    "plt.plot(u3,y3+0.2)\n",
    "plt.xlabel('u')\n",
    "plt.ylabel(\"u'\")\n",
    "plt.title(\"Plot of u' vs. u\")\n",
    "plt.show()"
   ]
  },
  {
   "cell_type": "code",
   "execution_count": null,
   "metadata": {},
   "outputs": [],
   "source": []
  }
 ],
 "metadata": {
  "kernelspec": {
   "display_name": "Python 3",
   "language": "python",
   "name": "python3"
  },
  "language_info": {
   "codemirror_mode": {
    "name": "ipython",
    "version": 3
   },
   "file_extension": ".py",
   "mimetype": "text/x-python",
   "name": "python",
   "nbconvert_exporter": "python",
   "pygments_lexer": "ipython3",
   "version": "3.8.8"
  }
 },
 "nbformat": 4,
 "nbformat_minor": 2
}
